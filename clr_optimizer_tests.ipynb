{
 "cells": [
  {
   "cell_type": "markdown",
   "metadata": {},
   "source": [
    "# Standard Keras Optimizers w/ Cyclic Learning Rate"
   ]
  },
  {
   "cell_type": "code",
   "execution_count": 1,
   "metadata": {
    "collapsed": false
   },
   "outputs": [
    {
     "name": "stderr",
     "output_type": "stream",
     "text": [
      "Using Theano backend.\n",
      "Using gpu device 1: GeForce GTX TITAN X (CNMeM is enabled with initial size: 80.0% of memory, cuDNN 5110)\n",
      "/home/bckenstler/anaconda3/envs/py36/lib/python3.6/site-packages/theano/sandbox/cuda/__init__.py:600: UserWarning: Your cuDNN version is more recent than the one Theano officially supports. If you see any problems, try updating Theano or downgrading cuDNN to version 5.\n",
      "  warnings.warn(warn)\n"
     ]
    }
   ],
   "source": [
    "from clr_optimizers import *\n",
    "\n",
    "import numpy as np"
   ]
  },
  {
   "cell_type": "markdown",
   "metadata": {},
   "source": [
    "## Toy CLR Function"
   ]
  },
  {
   "cell_type": "code",
   "execution_count": 2,
   "metadata": {
    "collapsed": true
   },
   "outputs": [],
   "source": [
    "def triangular(iterations):\n",
    "    \"\"\"\n",
    "    Test CLR function w/ following params:\n",
    "    \"\"\"\n",
    "    step_size = 2000.\n",
    "    lr = 0.01\n",
    "    max_lr = 0.06\n",
    "    cycle = np.floor(1+iterations/(2*step_size))\n",
    "    x = np.abs(iterations/step_size - 2*cycle + 1)\n",
    "    return lr + (max_lr-lr)*np.maximum(0, (1-x))"
   ]
  },
  {
   "cell_type": "code",
   "execution_count": 5,
   "metadata": {
    "collapsed": false
   },
   "outputs": [
    {
     "name": "stdout",
     "output_type": "stream",
     "text": [
      "Learning rate at iteration 1000: 0.034999999999999996\n",
      "Learning rate at iteration 2000: 0.06\n",
      "Learning rate at iteration 3000: 0.034999999999999996\n",
      "Learning rate at iteration 4000: 0.01\n",
      "Learning rate at iteration 5000: 0.034999999999999996\n",
      "Learning rate at iteration 6000: 0.06\n",
      "Learning rate at iteration 7000: 0.034999999999999996\n",
      "Learning rate at iteration 8000: 0.01\n",
      "Learning rate at iteration 9000: 0.034999999999999996\n",
      "Learning rate at iteration 10000: 0.06\n"
     ]
    }
   ],
   "source": [
    "for iteration in range(1000, 11000, 1000):\n",
    "    print(f\"Learning rate at iteration {iteration}: {triangular(iteration)}\")"
   ]
  },
  {
   "cell_type": "code",
   "execution_count": 6,
   "metadata": {
    "collapsed": true
   },
   "outputs": [],
   "source": [
    "def triangular2(iterations):\n",
    "    \"\"\"\n",
    "    Test CLR function w/ following params:\n",
    "    \"\"\"\n",
    "    step_size = 2000.\n",
    "    lr = 0.01\n",
    "    max_lr = 0.06\n",
    "    cycle = np.floor(1+iterations/(2*step_size))\n",
    "    x = np.abs(iterations/step_size - 2*cycle + 1)\n",
    "    return lr + (max_lr-lr)*np.maximum(0, (1-x))/float(2**(cycle-1))"
   ]
  },
  {
   "cell_type": "code",
   "execution_count": 7,
   "metadata": {
    "collapsed": false
   },
   "outputs": [
    {
     "name": "stdout",
     "output_type": "stream",
     "text": [
      "Learning rate at iteration 1000: 0.034999999999999996\n",
      "Learning rate at iteration 2000: 0.06\n",
      "Learning rate at iteration 3000: 0.034999999999999996\n",
      "Learning rate at iteration 4000: 0.01\n",
      "Learning rate at iteration 5000: 0.0225\n",
      "Learning rate at iteration 6000: 0.034999999999999996\n",
      "Learning rate at iteration 7000: 0.0225\n",
      "Learning rate at iteration 8000: 0.01\n",
      "Learning rate at iteration 9000: 0.01625\n",
      "Learning rate at iteration 10000: 0.0225\n"
     ]
    }
   ],
   "source": [
    "for iteration in range(1000, 11000, 1000):\n",
    "    print(f\"Learning rate at iteration {iteration}: {triangular2(iteration)}\")"
   ]
  },
  {
   "cell_type": "code",
   "execution_count": 14,
   "metadata": {
    "collapsed": true
   },
   "outputs": [],
   "source": [
    "def exp_range(iterations):\n",
    "    \"\"\"\n",
    "    Test CLR function w/ following params:\n",
    "    \"\"\"\n",
    "    gamma=0.99994\n",
    "    step_size = 2000.\n",
    "    lr = 0.01\n",
    "    max_lr = 0.06\n",
    "    cycle = np.floor(1+iterations/(2*step_size))\n",
    "    x = np.abs(iterations/step_size - 2*cycle + 1)\n",
    "    return lr + (max_lr-lr)*np.maximum(0, (1-x))*gamma**(iterations)"
   ]
  },
  {
   "cell_type": "code",
   "execution_count": 15,
   "metadata": {
    "collapsed": false
   },
   "outputs": [
    {
     "name": "stdout",
     "output_type": "stream",
     "text": [
      "Learning rate at iteration 1000: 0.0335440709585463\n",
      "Learning rate at iteration 2000: 0.05434586218408506\n",
      "Learning rate at iteration 3000: 0.030881642519600273\n",
      "Learning rate at iteration 4000: 0.01\n",
      "Learning rate at iteration 5000: 0.02852028882703049\n",
      "Learning rate at iteration 6000: 0.044883439545310246\n",
      "Learning rate at iteration 7000: 0.02642596351865889\n",
      "Learning rate at iteration 8000: 0.01\n",
      "Learning rate at iteration 9000: 0.02456847028878512\n",
      "Learning rate at iteration 10000: 0.03744008785893043\n"
     ]
    }
   ],
   "source": [
    "for iteration in range(1000, 11000, 1000):\n",
    "    print(f\"Learning rate at iteration {iteration}: {exp_range(iteration)}\")"
   ]
  },
  {
   "cell_type": "markdown",
   "metadata": {},
   "source": [
    "## Test Model"
   ]
  },
  {
   "cell_type": "code",
   "execution_count": 2,
   "metadata": {
    "collapsed": false
   },
   "outputs": [],
   "source": [
    "from keras.models import Sequential, Model\n",
    "from keras.layers import Dense, Activation, Input"
   ]
  },
  {
   "cell_type": "code",
   "execution_count": 3,
   "metadata": {
    "collapsed": false
   },
   "outputs": [],
   "source": [
    "inp = Input(shape=(15,))                \n",
    "x = Dense(10, activation='relu')(inp)\n",
    "x = Dense(1, activation='sigmoid')(x)\n",
    "\n",
    "model = Model(inp, x)"
   ]
  },
  {
   "cell_type": "code",
   "execution_count": 4,
   "metadata": {
    "collapsed": false
   },
   "outputs": [],
   "source": [
    "clr1 = {\n",
    "    'mode':'triangular',\n",
    "    'max_lr': 0.06,\n",
    "    'step_size': 2000\n",
    "}"
   ]
  },
  {
   "cell_type": "code",
   "execution_count": 5,
   "metadata": {
    "collapsed": true
   },
   "outputs": [],
   "source": [
    "clr2 = {\n",
    "    'mode':'triangular2',\n",
    "    'max_lr': 0.06,\n",
    "    'step_size': 2000\n",
    "}"
   ]
  },
  {
   "cell_type": "code",
   "execution_count": 6,
   "metadata": {
    "collapsed": true
   },
   "outputs": [],
   "source": [
    "clr3 = {\n",
    "    'mode':'exp_range',\n",
    "    'max_lr': 0.06,\n",
    "    'step_size': 2000,\n",
    "    'clr_gamma':0.99994\n",
    "}"
   ]
  },
  {
   "cell_type": "code",
   "execution_count": 7,
   "metadata": {
    "collapsed": false
   },
   "outputs": [],
   "source": [
    "X = np.random.rand(2000000,15)"
   ]
  },
  {
   "cell_type": "code",
   "execution_count": 8,
   "metadata": {
    "collapsed": false
   },
   "outputs": [],
   "source": [
    "Y = np.random.randint(0,2,size=2000000)"
   ]
  },
  {
   "cell_type": "markdown",
   "metadata": {},
   "source": [
    "## CLR Tests"
   ]
  },
  {
   "cell_type": "markdown",
   "metadata": {},
   "source": [
    "Set batch size so number of iterations in one epoch is 1000, half the default step_size (2000)."
   ]
  },
  {
   "cell_type": "markdown",
   "metadata": {},
   "source": [
    "Checked for each model. Note that \"current_lr\" is updated immediately following cycle update, and should follow expectations. It would only be different if rate-decay is in effect, as this happens prior to cycle."
   ]
  },
  {
   "cell_type": "markdown",
   "metadata": {},
   "source": [
    "Tested each CLR implementation and compare with toy results"
   ]
  },
  {
   "cell_type": "markdown",
   "metadata": {},
   "source": [
    "### SGD"
   ]
  },
  {
   "cell_type": "code",
   "execution_count": 9,
   "metadata": {
    "collapsed": false,
    "scrolled": true
   },
   "outputs": [
    {
     "name": "stdout",
     "output_type": "stream",
     "text": [
      "Number of iterations: 1000.0\n",
      "Current LR: 0.034974999725818634\n",
      "Number of iterations: 2000.0\n",
      "Current LR: 0.059974998235702515\n",
      "Number of iterations: 3000.0\n",
      "Current LR: 0.03502499684691429\n",
      "Number of iterations: 4000.0\n",
      "Current LR: 0.01002499833703041\n",
      "Number of iterations: 5000.0\n",
      "Current LR: 0.034974999725818634\n",
      "Number of iterations: 6000.0\n",
      "Current LR: 0.059974998235702515\n",
      "Number of iterations: 7000.0\n",
      "Current LR: 0.035024985671043396\n",
      "Number of iterations: 8000.0\n",
      "Current LR: 0.01002498622983694\n",
      "Number of iterations: 9000.0\n",
      "Current LR: 0.03497501090168953\n",
      "Number of iterations: 10000.0\n",
      "Current LR: 0.05997500941157341\n"
     ]
    }
   ],
   "source": [
    "model.compile(optimizer=SGD(lr=0.01,clr=clr1), loss = 'binary_crossentropy', metrics=['accuracy'])\n",
    "for i in range(0,10):\n",
    "    model.fit(X, Y, batch_size=2000, nb_epoch=1, verbose=0)\n",
    "    config = model.optimizer.get_config()\n",
    "    print(f'Number of iterations: {config[\"clr_iterations\"]}')\n",
    "    print(f'Current LR: {config[\"current_lr\"]}')"
   ]
  },
  {
   "cell_type": "code",
   "execution_count": 10,
   "metadata": {
    "collapsed": false
   },
   "outputs": [
    {
     "name": "stdout",
     "output_type": "stream",
     "text": [
      "Number of iterations: 1000.0\n",
      "Current LR: 0.034974999725818634\n",
      "Number of iterations: 2000.0\n",
      "Current LR: 0.059974998235702515\n",
      "Number of iterations: 3000.0\n",
      "Current LR: 0.03502499684691429\n",
      "Number of iterations: 4000.0\n",
      "Current LR: 0.01002499833703041\n",
      "Number of iterations: 5000.0\n",
      "Current LR: 0.022487498819828033\n",
      "Number of iterations: 6000.0\n",
      "Current LR: 0.03498750180006027\n",
      "Number of iterations: 7000.0\n",
      "Current LR: 0.022512491792440414\n",
      "Number of iterations: 8000.0\n",
      "Current LR: 0.010012492537498474\n",
      "Number of iterations: 9000.0\n",
      "Current LR: 0.01624375209212303\n",
      "Number of iterations: 10000.0\n",
      "Current LR: 0.02249375358223915\n"
     ]
    }
   ],
   "source": [
    "model.compile(optimizer=SGD(lr=0.01,clr=clr2), loss = 'binary_crossentropy', metrics=['accuracy'])\n",
    "for i in range(0,10):\n",
    "    model.fit(X, Y, batch_size=2000, nb_epoch=1, verbose=0)\n",
    "    config = model.optimizer.get_config()\n",
    "    print(f'Number of iterations: {config[\"clr_iterations\"]}')\n",
    "    print(f'Current LR: {config[\"current_lr\"]}')"
   ]
  },
  {
   "cell_type": "code",
   "execution_count": 11,
   "metadata": {
    "collapsed": false
   },
   "outputs": [
    {
     "name": "stdout",
     "output_type": "stream",
     "text": [
      "Number of iterations: 1000.0\n",
      "Current LR: 0.033522482961416245\n",
      "Number of iterations: 2000.0\n",
      "Current LR: 0.054328400641679764\n",
      "Number of iterations: 3000.0\n",
      "Current LR: 0.03090522810816765\n",
      "Number of iterations: 4000.0\n",
      "Current LR: 0.010019666515290737\n",
      "Number of iterations: 5000.0\n",
      "Current LR: 0.028505021706223488\n",
      "Number of iterations: 6000.0\n",
      "Current LR: 0.044872939586639404\n",
      "Number of iterations: 7000.0\n",
      "Current LR: 0.026446033269166946\n",
      "Number of iterations: 8000.0\n",
      "Current LR: 0.010015464387834072\n",
      "Number of iterations: 9000.0\n",
      "Current LR: 0.024557817727327347\n",
      "Number of iterations: 10000.0\n",
      "Current LR: 0.037434376776218414\n"
     ]
    }
   ],
   "source": [
    "model.compile(optimizer=SGD(lr=0.01,clr=clr3), loss = 'binary_crossentropy', metrics=['accuracy'])\n",
    "for i in range(0,10):\n",
    "    model.fit(X, Y, batch_size=2000, nb_epoch=1, verbose=0)\n",
    "    config = model.optimizer.get_config()\n",
    "    print(f'Number of iterations: {config[\"clr_iterations\"]}')\n",
    "    print(f'Current LR: {config[\"current_lr\"]}')"
   ]
  },
  {
   "cell_type": "markdown",
   "metadata": {},
   "source": [
    "### RMSProp"
   ]
  },
  {
   "cell_type": "code",
   "execution_count": 12,
   "metadata": {
    "collapsed": false
   },
   "outputs": [
    {
     "name": "stdout",
     "output_type": "stream",
     "text": [
      "Number of iterations: 1000.0\n",
      "Current LR: 0.034974999725818634\n",
      "Number of iterations: 2000.0\n",
      "Current LR: 0.059974998235702515\n",
      "Number of iterations: 3000.0\n",
      "Current LR: 0.03502499684691429\n",
      "Number of iterations: 4000.0\n",
      "Current LR: 0.01002499833703041\n",
      "Number of iterations: 5000.0\n",
      "Current LR: 0.034974999725818634\n",
      "Number of iterations: 6000.0\n",
      "Current LR: 0.059974998235702515\n",
      "Number of iterations: 7000.0\n",
      "Current LR: 0.035024985671043396\n",
      "Number of iterations: 8000.0\n",
      "Current LR: 0.01002498622983694\n",
      "Number of iterations: 9000.0\n",
      "Current LR: 0.03497501090168953\n",
      "Number of iterations: 10000.0\n",
      "Current LR: 0.05997500941157341\n"
     ]
    }
   ],
   "source": [
    "model.compile(optimizer=RMSprop(lr=0.01,clr=clr1), loss = 'binary_crossentropy', metrics=['accuracy'])\n",
    "for i in range(0,10):\n",
    "    model.fit(X, Y, batch_size=2000, nb_epoch=1, verbose=0)\n",
    "    config = model.optimizer.get_config()\n",
    "    print(f'Number of iterations: {config[\"clr_iterations\"]}')\n",
    "    print(f'Current LR: {config[\"current_lr\"]}')"
   ]
  },
  {
   "cell_type": "code",
   "execution_count": 13,
   "metadata": {
    "collapsed": false
   },
   "outputs": [
    {
     "name": "stdout",
     "output_type": "stream",
     "text": [
      "Number of iterations: 1000.0\n",
      "Current LR: 0.034974999725818634\n",
      "Number of iterations: 2000.0\n",
      "Current LR: 0.059974998235702515\n",
      "Number of iterations: 3000.0\n",
      "Current LR: 0.03502499684691429\n",
      "Number of iterations: 4000.0\n",
      "Current LR: 0.01002499833703041\n",
      "Number of iterations: 5000.0\n",
      "Current LR: 0.022487498819828033\n",
      "Number of iterations: 6000.0\n",
      "Current LR: 0.03498750180006027\n",
      "Number of iterations: 7000.0\n",
      "Current LR: 0.022512491792440414\n",
      "Number of iterations: 8000.0\n",
      "Current LR: 0.010012492537498474\n",
      "Number of iterations: 9000.0\n",
      "Current LR: 0.01624375209212303\n",
      "Number of iterations: 10000.0\n",
      "Current LR: 0.02249375358223915\n"
     ]
    }
   ],
   "source": [
    "model.compile(optimizer=RMSprop(lr=0.01,clr=clr2), loss = 'binary_crossentropy', metrics=['accuracy'])\n",
    "for i in range(0,10):\n",
    "    model.fit(X, Y, batch_size=2000, nb_epoch=1, verbose=0)\n",
    "    config = model.optimizer.get_config()\n",
    "    print(f'Number of iterations: {config[\"clr_iterations\"]}')\n",
    "    print(f'Current LR: {config[\"current_lr\"]}')"
   ]
  },
  {
   "cell_type": "code",
   "execution_count": 14,
   "metadata": {
    "collapsed": false
   },
   "outputs": [
    {
     "name": "stdout",
     "output_type": "stream",
     "text": [
      "Number of iterations: 1000.0\n",
      "Current LR: 0.033522482961416245\n",
      "Number of iterations: 2000.0\n",
      "Current LR: 0.054328400641679764\n",
      "Number of iterations: 3000.0\n",
      "Current LR: 0.03090522810816765\n",
      "Number of iterations: 4000.0\n",
      "Current LR: 0.010019666515290737\n",
      "Number of iterations: 5000.0\n",
      "Current LR: 0.028505021706223488\n",
      "Number of iterations: 6000.0\n",
      "Current LR: 0.044872939586639404\n",
      "Number of iterations: 7000.0\n",
      "Current LR: 0.026446033269166946\n",
      "Number of iterations: 8000.0\n",
      "Current LR: 0.010015464387834072\n",
      "Number of iterations: 9000.0\n",
      "Current LR: 0.024557817727327347\n",
      "Number of iterations: 10000.0\n",
      "Current LR: 0.037434376776218414\n"
     ]
    }
   ],
   "source": [
    "model.compile(optimizer=RMSprop(lr=0.01,clr=clr3), loss = 'binary_crossentropy', metrics=['accuracy'])\n",
    "for i in range(0,10):\n",
    "    model.fit(X, Y, batch_size=2000, nb_epoch=1, verbose=0)\n",
    "    config = model.optimizer.get_config()\n",
    "    print(f'Number of iterations: {config[\"clr_iterations\"]}')\n",
    "    print(f'Current LR: {config[\"current_lr\"]}')"
   ]
  },
  {
   "cell_type": "markdown",
   "metadata": {},
   "source": [
    "### Adagrad"
   ]
  },
  {
   "cell_type": "code",
   "execution_count": 15,
   "metadata": {
    "collapsed": false
   },
   "outputs": [
    {
     "name": "stdout",
     "output_type": "stream",
     "text": [
      "Number of iterations: 1000.0\n",
      "Current LR: 0.034974999725818634\n",
      "Number of iterations: 2000.0\n",
      "Current LR: 0.059974998235702515\n",
      "Number of iterations: 3000.0\n",
      "Current LR: 0.03502499684691429\n",
      "Number of iterations: 4000.0\n",
      "Current LR: 0.01002499833703041\n",
      "Number of iterations: 5000.0\n",
      "Current LR: 0.034974999725818634\n",
      "Number of iterations: 6000.0\n",
      "Current LR: 0.059974998235702515\n",
      "Number of iterations: 7000.0\n",
      "Current LR: 0.035024985671043396\n",
      "Number of iterations: 8000.0\n",
      "Current LR: 0.01002498622983694\n",
      "Number of iterations: 9000.0\n",
      "Current LR: 0.03497501090168953\n",
      "Number of iterations: 10000.0\n",
      "Current LR: 0.05997500941157341\n"
     ]
    }
   ],
   "source": [
    "model.compile(optimizer=Adagrad(lr=0.01,clr=clr1), loss = 'binary_crossentropy', metrics=['accuracy'])\n",
    "for i in range(0,10):\n",
    "    model.fit(X, Y, batch_size=2000, nb_epoch=1, verbose=0)\n",
    "    config = model.optimizer.get_config()\n",
    "    print(f'Number of iterations: {config[\"clr_iterations\"]}')\n",
    "    print(f'Current LR: {config[\"current_lr\"]}')"
   ]
  },
  {
   "cell_type": "code",
   "execution_count": 16,
   "metadata": {
    "collapsed": false
   },
   "outputs": [
    {
     "name": "stdout",
     "output_type": "stream",
     "text": [
      "Number of iterations: 1000.0\n",
      "Current LR: 0.034974999725818634\n",
      "Number of iterations: 2000.0\n",
      "Current LR: 0.059974998235702515\n",
      "Number of iterations: 3000.0\n",
      "Current LR: 0.03502499684691429\n",
      "Number of iterations: 4000.0\n",
      "Current LR: 0.01002499833703041\n",
      "Number of iterations: 5000.0\n",
      "Current LR: 0.022487498819828033\n",
      "Number of iterations: 6000.0\n",
      "Current LR: 0.03498750180006027\n",
      "Number of iterations: 7000.0\n",
      "Current LR: 0.022512491792440414\n",
      "Number of iterations: 8000.0\n",
      "Current LR: 0.010012492537498474\n",
      "Number of iterations: 9000.0\n",
      "Current LR: 0.01624375209212303\n",
      "Number of iterations: 10000.0\n",
      "Current LR: 0.02249375358223915\n"
     ]
    }
   ],
   "source": [
    "model.compile(optimizer=Adagrad(lr=0.01,clr=clr2), loss = 'binary_crossentropy', metrics=['accuracy'])\n",
    "for i in range(0,10):\n",
    "    model.fit(X, Y, batch_size=2000, nb_epoch=1, verbose=0)\n",
    "    config = model.optimizer.get_config()\n",
    "    print(f'Number of iterations: {config[\"clr_iterations\"]}')\n",
    "    print(f'Current LR: {config[\"current_lr\"]}')"
   ]
  },
  {
   "cell_type": "code",
   "execution_count": 17,
   "metadata": {
    "collapsed": false
   },
   "outputs": [
    {
     "name": "stdout",
     "output_type": "stream",
     "text": [
      "Number of iterations: 1000.0\n",
      "Current LR: 0.033522482961416245\n",
      "Number of iterations: 2000.0\n",
      "Current LR: 0.054328400641679764\n",
      "Number of iterations: 3000.0\n",
      "Current LR: 0.03090522810816765\n",
      "Number of iterations: 4000.0\n",
      "Current LR: 0.010019666515290737\n",
      "Number of iterations: 5000.0\n",
      "Current LR: 0.028505021706223488\n",
      "Number of iterations: 6000.0\n",
      "Current LR: 0.044872939586639404\n",
      "Number of iterations: 7000.0\n",
      "Current LR: 0.026446033269166946\n",
      "Number of iterations: 8000.0\n",
      "Current LR: 0.010015464387834072\n",
      "Number of iterations: 9000.0\n",
      "Current LR: 0.024557817727327347\n",
      "Number of iterations: 10000.0\n",
      "Current LR: 0.037434376776218414\n"
     ]
    }
   ],
   "source": [
    "model.compile(optimizer=Adagrad(lr=0.01,clr=clr3), loss = 'binary_crossentropy', metrics=['accuracy'])\n",
    "for i in range(0,10):\n",
    "    model.fit(X, Y, batch_size=2000, nb_epoch=1, verbose=0)\n",
    "    config = model.optimizer.get_config()\n",
    "    print(f'Number of iterations: {config[\"clr_iterations\"]}')\n",
    "    print(f'Current LR: {config[\"current_lr\"]}')"
   ]
  },
  {
   "cell_type": "markdown",
   "metadata": {},
   "source": [
    "### Adadelta"
   ]
  },
  {
   "cell_type": "code",
   "execution_count": 18,
   "metadata": {
    "collapsed": false
   },
   "outputs": [
    {
     "name": "stdout",
     "output_type": "stream",
     "text": [
      "Number of iterations: 1000.0\n",
      "Current LR: 0.034974999725818634\n",
      "Number of iterations: 2000.0\n",
      "Current LR: 0.059974998235702515\n",
      "Number of iterations: 3000.0\n",
      "Current LR: 0.03502499684691429\n",
      "Number of iterations: 4000.0\n",
      "Current LR: 0.01002499833703041\n",
      "Number of iterations: 5000.0\n",
      "Current LR: 0.034974999725818634\n",
      "Number of iterations: 6000.0\n",
      "Current LR: 0.059974998235702515\n",
      "Number of iterations: 7000.0\n",
      "Current LR: 0.035024985671043396\n",
      "Number of iterations: 8000.0\n",
      "Current LR: 0.01002498622983694\n",
      "Number of iterations: 9000.0\n",
      "Current LR: 0.03497501090168953\n",
      "Number of iterations: 10000.0\n",
      "Current LR: 0.05997500941157341\n"
     ]
    }
   ],
   "source": [
    "model.compile(optimizer=Adadelta(lr=0.01,clr=clr1), loss = 'binary_crossentropy', metrics=['accuracy'])\n",
    "for i in range(0,10):\n",
    "    model.fit(X, Y, batch_size=2000, nb_epoch=1, verbose=0)\n",
    "    config = model.optimizer.get_config()\n",
    "    print(f'Number of iterations: {config[\"clr_iterations\"]}')\n",
    "    print(f'Current LR: {config[\"current_lr\"]}')"
   ]
  },
  {
   "cell_type": "code",
   "execution_count": 19,
   "metadata": {
    "collapsed": false
   },
   "outputs": [
    {
     "name": "stdout",
     "output_type": "stream",
     "text": [
      "Number of iterations: 1000.0\n",
      "Current LR: 0.034974999725818634\n",
      "Number of iterations: 2000.0\n",
      "Current LR: 0.059974998235702515\n",
      "Number of iterations: 3000.0\n",
      "Current LR: 0.03502499684691429\n",
      "Number of iterations: 4000.0\n",
      "Current LR: 0.01002499833703041\n",
      "Number of iterations: 5000.0\n",
      "Current LR: 0.022487498819828033\n",
      "Number of iterations: 6000.0\n",
      "Current LR: 0.03498750180006027\n",
      "Number of iterations: 7000.0\n",
      "Current LR: 0.022512491792440414\n",
      "Number of iterations: 8000.0\n",
      "Current LR: 0.010012492537498474\n",
      "Number of iterations: 9000.0\n",
      "Current LR: 0.01624375209212303\n",
      "Number of iterations: 10000.0\n",
      "Current LR: 0.02249375358223915\n"
     ]
    }
   ],
   "source": [
    "model.compile(optimizer=Adadelta(lr=0.01,clr=clr2), loss = 'binary_crossentropy', metrics=['accuracy'])\n",
    "for i in range(0,10):\n",
    "    model.fit(X, Y, batch_size=2000, nb_epoch=1, verbose=0)\n",
    "    config = model.optimizer.get_config()\n",
    "    print(f'Number of iterations: {config[\"clr_iterations\"]}')\n",
    "    print(f'Current LR: {config[\"current_lr\"]}')"
   ]
  },
  {
   "cell_type": "code",
   "execution_count": 20,
   "metadata": {
    "collapsed": false
   },
   "outputs": [
    {
     "name": "stdout",
     "output_type": "stream",
     "text": [
      "Number of iterations: 1000.0\n",
      "Current LR: 0.033522482961416245\n",
      "Number of iterations: 2000.0\n",
      "Current LR: 0.054328400641679764\n",
      "Number of iterations: 3000.0\n",
      "Current LR: 0.03090522810816765\n",
      "Number of iterations: 4000.0\n",
      "Current LR: 0.010019666515290737\n",
      "Number of iterations: 5000.0\n",
      "Current LR: 0.028505021706223488\n",
      "Number of iterations: 6000.0\n",
      "Current LR: 0.044872939586639404\n",
      "Number of iterations: 7000.0\n",
      "Current LR: 0.026446033269166946\n",
      "Number of iterations: 8000.0\n",
      "Current LR: 0.010015464387834072\n",
      "Number of iterations: 9000.0\n",
      "Current LR: 0.024557817727327347\n",
      "Number of iterations: 10000.0\n",
      "Current LR: 0.037434376776218414\n"
     ]
    }
   ],
   "source": [
    "model.compile(optimizer=Adadelta(lr=0.01,clr=clr3), loss = 'binary_crossentropy', metrics=['accuracy'])\n",
    "for i in range(0,10):\n",
    "    model.fit(X, Y, batch_size=2000, nb_epoch=1, verbose=0)\n",
    "    config = model.optimizer.get_config()\n",
    "    print(f'Number of iterations: {config[\"clr_iterations\"]}')\n",
    "    print(f'Current LR: {config[\"current_lr\"]}')"
   ]
  },
  {
   "cell_type": "markdown",
   "metadata": {},
   "source": [
    "### Adam"
   ]
  },
  {
   "cell_type": "code",
   "execution_count": 21,
   "metadata": {
    "collapsed": false
   },
   "outputs": [
    {
     "name": "stdout",
     "output_type": "stream",
     "text": [
      "Number of iterations: 1000.0\n",
      "Current LR: 0.034974999725818634\n",
      "Number of iterations: 2000.0\n",
      "Current LR: 0.059974998235702515\n",
      "Number of iterations: 3000.0\n",
      "Current LR: 0.03502499684691429\n",
      "Number of iterations: 4000.0\n",
      "Current LR: 0.01002499833703041\n",
      "Number of iterations: 5000.0\n",
      "Current LR: 0.034974999725818634\n",
      "Number of iterations: 6000.0\n",
      "Current LR: 0.059974998235702515\n",
      "Number of iterations: 7000.0\n",
      "Current LR: 0.035024985671043396\n",
      "Number of iterations: 8000.0\n",
      "Current LR: 0.01002498622983694\n",
      "Number of iterations: 9000.0\n",
      "Current LR: 0.03497501090168953\n",
      "Number of iterations: 10000.0\n",
      "Current LR: 0.05997500941157341\n"
     ]
    }
   ],
   "source": [
    "model.compile(optimizer=Adam(lr=0.01,clr=clr1), loss = 'binary_crossentropy', metrics=['accuracy'])\n",
    "for i in range(0,10):\n",
    "    model.fit(X, Y, batch_size=2000, nb_epoch=1, verbose=0)\n",
    "    config = model.optimizer.get_config()\n",
    "    print(f'Number of iterations: {config[\"clr_iterations\"]}')\n",
    "    print(f'Current LR: {config[\"current_lr\"]}')"
   ]
  },
  {
   "cell_type": "code",
   "execution_count": 22,
   "metadata": {
    "collapsed": false
   },
   "outputs": [
    {
     "name": "stdout",
     "output_type": "stream",
     "text": [
      "Number of iterations: 1000.0\n",
      "Current LR: 0.034974999725818634\n",
      "Number of iterations: 2000.0\n",
      "Current LR: 0.059974998235702515\n",
      "Number of iterations: 3000.0\n",
      "Current LR: 0.03502499684691429\n",
      "Number of iterations: 4000.0\n",
      "Current LR: 0.01002499833703041\n",
      "Number of iterations: 5000.0\n",
      "Current LR: 0.022487498819828033\n",
      "Number of iterations: 6000.0\n",
      "Current LR: 0.03498750180006027\n",
      "Number of iterations: 7000.0\n",
      "Current LR: 0.022512491792440414\n",
      "Number of iterations: 8000.0\n",
      "Current LR: 0.010012492537498474\n",
      "Number of iterations: 9000.0\n",
      "Current LR: 0.01624375209212303\n",
      "Number of iterations: 10000.0\n",
      "Current LR: 0.02249375358223915\n"
     ]
    }
   ],
   "source": [
    "model.compile(optimizer=Adam(lr=0.01,clr=clr2), loss = 'binary_crossentropy', metrics=['accuracy'])\n",
    "for i in range(0,10):\n",
    "    model.fit(X, Y, batch_size=2000, nb_epoch=1, verbose=0)\n",
    "    config = model.optimizer.get_config()\n",
    "    print(f'Number of iterations: {config[\"clr_iterations\"]}')\n",
    "    print(f'Current LR: {config[\"current_lr\"]}')"
   ]
  },
  {
   "cell_type": "code",
   "execution_count": 23,
   "metadata": {
    "collapsed": false
   },
   "outputs": [
    {
     "name": "stdout",
     "output_type": "stream",
     "text": [
      "Number of iterations: 1000.0\n",
      "Current LR: 0.033522482961416245\n",
      "Number of iterations: 2000.0\n",
      "Current LR: 0.054328400641679764\n",
      "Number of iterations: 3000.0\n",
      "Current LR: 0.03090522810816765\n",
      "Number of iterations: 4000.0\n",
      "Current LR: 0.010019666515290737\n",
      "Number of iterations: 5000.0\n",
      "Current LR: 0.028505021706223488\n",
      "Number of iterations: 6000.0\n",
      "Current LR: 0.044872939586639404\n",
      "Number of iterations: 7000.0\n",
      "Current LR: 0.026446033269166946\n",
      "Number of iterations: 8000.0\n",
      "Current LR: 0.010015464387834072\n",
      "Number of iterations: 9000.0\n",
      "Current LR: 0.024557817727327347\n",
      "Number of iterations: 10000.0\n",
      "Current LR: 0.037434376776218414\n"
     ]
    }
   ],
   "source": [
    "model.compile(optimizer=Adam(lr=0.01,clr=clr3), loss = 'binary_crossentropy', metrics=['accuracy'])\n",
    "for i in range(0,10):\n",
    "    model.fit(X, Y, batch_size=2000, nb_epoch=1, verbose=0)\n",
    "    config = model.optimizer.get_config()\n",
    "    print(f'Number of iterations: {config[\"clr_iterations\"]}')\n",
    "    print(f'Current LR: {config[\"current_lr\"]}')"
   ]
  },
  {
   "cell_type": "markdown",
   "metadata": {},
   "source": [
    "### Adamax"
   ]
  },
  {
   "cell_type": "code",
   "execution_count": 24,
   "metadata": {
    "collapsed": false
   },
   "outputs": [
    {
     "name": "stdout",
     "output_type": "stream",
     "text": [
      "Number of iterations: 1000.0\n",
      "Current LR: 0.034974999725818634\n",
      "Number of iterations: 2000.0\n",
      "Current LR: 0.059974998235702515\n",
      "Number of iterations: 3000.0\n",
      "Current LR: 0.03502499684691429\n",
      "Number of iterations: 4000.0\n",
      "Current LR: 0.01002499833703041\n",
      "Number of iterations: 5000.0\n",
      "Current LR: 0.034974999725818634\n",
      "Number of iterations: 6000.0\n",
      "Current LR: 0.059974998235702515\n",
      "Number of iterations: 7000.0\n",
      "Current LR: 0.035024985671043396\n",
      "Number of iterations: 8000.0\n",
      "Current LR: 0.01002498622983694\n",
      "Number of iterations: 9000.0\n",
      "Current LR: 0.03497501090168953\n",
      "Number of iterations: 10000.0\n",
      "Current LR: 0.05997500941157341\n"
     ]
    }
   ],
   "source": [
    "model.compile(optimizer=Adamax(lr=0.01,clr=clr1), loss = 'binary_crossentropy', metrics=['accuracy'])\n",
    "for i in range(0,10):\n",
    "    model.fit(X, Y, batch_size=2000, nb_epoch=1, verbose=0)\n",
    "    config = model.optimizer.get_config()\n",
    "    print(f'Number of iterations: {config[\"clr_iterations\"]}')\n",
    "    print(f'Current LR: {config[\"current_lr\"]}')"
   ]
  },
  {
   "cell_type": "code",
   "execution_count": 25,
   "metadata": {
    "collapsed": false
   },
   "outputs": [
    {
     "name": "stdout",
     "output_type": "stream",
     "text": [
      "Number of iterations: 1000.0\n",
      "Current LR: 0.034974999725818634\n",
      "Number of iterations: 2000.0\n",
      "Current LR: 0.059974998235702515\n",
      "Number of iterations: 3000.0\n",
      "Current LR: 0.03502499684691429\n",
      "Number of iterations: 4000.0\n",
      "Current LR: 0.01002499833703041\n",
      "Number of iterations: 5000.0\n",
      "Current LR: 0.022487498819828033\n",
      "Number of iterations: 6000.0\n",
      "Current LR: 0.03498750180006027\n",
      "Number of iterations: 7000.0\n",
      "Current LR: 0.022512491792440414\n",
      "Number of iterations: 8000.0\n",
      "Current LR: 0.010012492537498474\n",
      "Number of iterations: 9000.0\n",
      "Current LR: 0.01624375209212303\n",
      "Number of iterations: 10000.0\n",
      "Current LR: 0.02249375358223915\n"
     ]
    }
   ],
   "source": [
    "model.compile(optimizer=Adamax(lr=0.01,clr=clr2), loss = 'binary_crossentropy', metrics=['accuracy'])\n",
    "for i in range(0,10):\n",
    "    model.fit(X, Y, batch_size=2000, nb_epoch=1, verbose=0)\n",
    "    config = model.optimizer.get_config()\n",
    "    print(f'Number of iterations: {config[\"clr_iterations\"]}')\n",
    "    print(f'Current LR: {config[\"current_lr\"]}')"
   ]
  },
  {
   "cell_type": "code",
   "execution_count": 26,
   "metadata": {
    "collapsed": false
   },
   "outputs": [
    {
     "name": "stdout",
     "output_type": "stream",
     "text": [
      "Number of iterations: 1000.0\n",
      "Current LR: 0.033522482961416245\n",
      "Number of iterations: 2000.0\n",
      "Current LR: 0.054328400641679764\n",
      "Number of iterations: 3000.0\n",
      "Current LR: 0.03090522810816765\n",
      "Number of iterations: 4000.0\n",
      "Current LR: 0.010019666515290737\n",
      "Number of iterations: 5000.0\n",
      "Current LR: 0.028505021706223488\n",
      "Number of iterations: 6000.0\n",
      "Current LR: 0.044872939586639404\n",
      "Number of iterations: 7000.0\n",
      "Current LR: 0.026446033269166946\n",
      "Number of iterations: 8000.0\n",
      "Current LR: 0.010015464387834072\n",
      "Number of iterations: 9000.0\n",
      "Current LR: 0.024557817727327347\n",
      "Number of iterations: 10000.0\n",
      "Current LR: 0.037434376776218414\n"
     ]
    }
   ],
   "source": [
    "model.compile(optimizer=Adamax(lr=0.01,clr=clr3), loss = 'binary_crossentropy', metrics=['accuracy'])\n",
    "for i in range(0,10):\n",
    "    model.fit(X, Y, batch_size=2000, nb_epoch=1, verbose=0)\n",
    "    config = model.optimizer.get_config()\n",
    "    print(f'Number of iterations: {config[\"clr_iterations\"]}')\n",
    "    print(f'Current LR: {config[\"current_lr\"]}')"
   ]
  },
  {
   "cell_type": "markdown",
   "metadata": {},
   "source": [
    "### Nadam"
   ]
  },
  {
   "cell_type": "code",
   "execution_count": 27,
   "metadata": {
    "collapsed": false
   },
   "outputs": [
    {
     "name": "stdout",
     "output_type": "stream",
     "text": [
      "Number of iterations: 1000.0\n",
      "Current LR: 0.034974999725818634\n",
      "Number of iterations: 2000.0\n",
      "Current LR: 0.059974998235702515\n",
      "Number of iterations: 3000.0\n",
      "Current LR: 0.03502499684691429\n",
      "Number of iterations: 4000.0\n",
      "Current LR: 0.01002499833703041\n",
      "Number of iterations: 5000.0\n",
      "Current LR: 0.034974999725818634\n",
      "Number of iterations: 6000.0\n",
      "Current LR: 0.059974998235702515\n",
      "Number of iterations: 7000.0\n",
      "Current LR: 0.035024985671043396\n",
      "Number of iterations: 8000.0\n",
      "Current LR: 0.01002498622983694\n",
      "Number of iterations: 9000.0\n",
      "Current LR: 0.03497501090168953\n",
      "Number of iterations: 10000.0\n",
      "Current LR: 0.05997500941157341\n"
     ]
    }
   ],
   "source": [
    "model.compile(optimizer=Nadam(lr=0.01,clr=clr1), loss = 'binary_crossentropy', metrics=['accuracy'])\n",
    "for i in range(0,10):\n",
    "    model.fit(X, Y, batch_size=2000, nb_epoch=1, verbose=0)\n",
    "    config = model.optimizer.get_config()\n",
    "    print(f'Number of iterations: {config[\"clr_iterations\"]}')\n",
    "    print(f'Current LR: {config[\"current_lr\"]}')"
   ]
  },
  {
   "cell_type": "code",
   "execution_count": 28,
   "metadata": {
    "collapsed": false
   },
   "outputs": [
    {
     "name": "stdout",
     "output_type": "stream",
     "text": [
      "Number of iterations: 1000.0\n",
      "Current LR: 0.034974999725818634\n",
      "Number of iterations: 2000.0\n",
      "Current LR: 0.059974998235702515\n",
      "Number of iterations: 3000.0\n",
      "Current LR: 0.03502499684691429\n",
      "Number of iterations: 4000.0\n",
      "Current LR: 0.01002499833703041\n",
      "Number of iterations: 5000.0\n",
      "Current LR: 0.022487498819828033\n",
      "Number of iterations: 6000.0\n",
      "Current LR: 0.03498750180006027\n",
      "Number of iterations: 7000.0\n",
      "Current LR: 0.022512491792440414\n",
      "Number of iterations: 8000.0\n",
      "Current LR: 0.010012492537498474\n",
      "Number of iterations: 9000.0\n",
      "Current LR: 0.01624375209212303\n",
      "Number of iterations: 10000.0\n",
      "Current LR: 0.02249375358223915\n"
     ]
    }
   ],
   "source": [
    "model.compile(optimizer=Nadam(lr=0.01,clr=clr2), loss = 'binary_crossentropy', metrics=['accuracy'])\n",
    "for i in range(0,10):\n",
    "    model.fit(X, Y, batch_size=2000, nb_epoch=1, verbose=0)\n",
    "    config = model.optimizer.get_config()\n",
    "    print(f'Number of iterations: {config[\"clr_iterations\"]}')\n",
    "    print(f'Current LR: {config[\"current_lr\"]}')"
   ]
  },
  {
   "cell_type": "code",
   "execution_count": 29,
   "metadata": {
    "collapsed": false
   },
   "outputs": [
    {
     "name": "stdout",
     "output_type": "stream",
     "text": [
      "Number of iterations: 1000.0\n",
      "Current LR: 0.033522482961416245\n",
      "Number of iterations: 2000.0\n",
      "Current LR: 0.054328400641679764\n",
      "Number of iterations: 3000.0\n",
      "Current LR: 0.03090522810816765\n",
      "Number of iterations: 4000.0\n",
      "Current LR: 0.010019666515290737\n",
      "Number of iterations: 5000.0\n",
      "Current LR: 0.028505021706223488\n",
      "Number of iterations: 6000.0\n",
      "Current LR: 0.044872939586639404\n",
      "Number of iterations: 7000.0\n",
      "Current LR: 0.026446033269166946\n",
      "Number of iterations: 8000.0\n",
      "Current LR: 0.010015464387834072\n",
      "Number of iterations: 9000.0\n",
      "Current LR: 0.024557817727327347\n",
      "Number of iterations: 10000.0\n",
      "Current LR: 0.037434376776218414\n"
     ]
    }
   ],
   "source": [
    "model.compile(optimizer=Nadam(lr=0.01,clr=clr3), loss = 'binary_crossentropy', metrics=['accuracy'])\n",
    "for i in range(0,10):\n",
    "    model.fit(X, Y, batch_size=2000, nb_epoch=1, verbose=0)\n",
    "    config = model.optimizer.get_config()\n",
    "    print(f'Number of iterations: {config[\"clr_iterations\"]}')\n",
    "    print(f'Current LR: {config[\"current_lr\"]}')"
   ]
  },
  {
   "cell_type": "markdown",
   "metadata": {},
   "source": [
    "Values check out"
   ]
  }
 ],
 "metadata": {
  "kernelspec": {
   "display_name": "Python 3",
   "language": "python",
   "name": "python3"
  },
  "language_info": {
   "codemirror_mode": {
    "name": "ipython",
    "version": 3
   },
   "file_extension": ".py",
   "mimetype": "text/x-python",
   "name": "python",
   "nbconvert_exporter": "python",
   "pygments_lexer": "ipython3",
   "version": "3.6.0"
  }
 },
 "nbformat": 4,
 "nbformat_minor": 2
}
