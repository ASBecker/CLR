{
 "cells": [
  {
   "cell_type": "markdown",
   "metadata": {},
   "source": [
    "# Standard Keras Optimizers w/ Cyclic Learning Rate"
   ]
  },
  {
   "cell_type": "code",
   "execution_count": 21,
   "metadata": {
    "collapsed": false
   },
   "outputs": [],
   "source": [
    "from clr_optimizers import *\n",
    "\n",
    "import numpy as np"
   ]
  },
  {
   "cell_type": "markdown",
   "metadata": {},
   "source": [
    "## Toy CLR Function"
   ]
  },
  {
   "cell_type": "code",
   "execution_count": 19,
   "metadata": {
    "collapsed": true
   },
   "outputs": [],
   "source": [
    "def lr(iterations):\n",
    "    \"\"\"\n",
    "    Test CLR function w/ following params:\n",
    "    \"\"\"\n",
    "    step_size = 2000.\n",
    "    lr = 0.01\n",
    "    max_lr = 0.06\n",
    "    cycle = np.floor(1+iterations/(2*step_size))\n",
    "    x = np.abs(iterations/step_size - 2*cycle + 1)\n",
    "    return lr + (max_lr-lr)*np.maximum(0, (1-x))"
   ]
  },
  {
   "cell_type": "code",
   "execution_count": 20,
   "metadata": {
    "collapsed": false
   },
   "outputs": [
    {
     "name": "stdout",
     "output_type": "stream",
     "text": [
      "Learning rate at iteration 1000: 0.034999999999999996\n",
      "Learning rate at iteration 2000: 0.06\n",
      "Learning rate at iteration 3000: 0.034999999999999996\n",
      "Learning rate at iteration 4000: 0.01\n",
      "Learning rate at iteration 5000: 0.034999999999999996\n",
      "Learning rate at iteration 6000: 0.06\n",
      "Learning rate at iteration 7000: 0.034999999999999996\n",
      "Learning rate at iteration 8000: 0.01\n",
      "Learning rate at iteration 9000: 0.034999999999999996\n",
      "Learning rate at iteration 10000: 0.06\n"
     ]
    }
   ],
   "source": [
    "for iteration in range(1000, 11000, 1000):\n",
    "    print(f\"Learning rate at iteration {iteration}: {lr(iteration)}\")"
   ]
  },
  {
   "cell_type": "markdown",
   "metadata": {},
   "source": [
    "## Test Model"
   ]
  },
  {
   "cell_type": "code",
   "execution_count": 2,
   "metadata": {
    "collapsed": false
   },
   "outputs": [],
   "source": [
    "from keras.models import Sequential, Model\n",
    "from keras.layers import Dense, Activation, Input"
   ]
  },
  {
   "cell_type": "code",
   "execution_count": 3,
   "metadata": {
    "collapsed": false
   },
   "outputs": [],
   "source": [
    "inp = Input(shape=(15,))                \n",
    "x = Dense(10, activation='relu')(inp)\n",
    "x = Dense(1, activation='sigmoid')(x)\n",
    "\n",
    "model = Model(inp, x)"
   ]
  },
  {
   "cell_type": "code",
   "execution_count": 4,
   "metadata": {
    "collapsed": true
   },
   "outputs": [],
   "source": [
    "clr = {\n",
    "    'max_lr': 0.06,\n",
    "    'step_size': 2000\n",
    "}"
   ]
  },
  {
   "cell_type": "code",
   "execution_count": 6,
   "metadata": {
    "collapsed": false
   },
   "outputs": [],
   "source": [
    "X = np.random.rand(2000000,15)"
   ]
  },
  {
   "cell_type": "code",
   "execution_count": 7,
   "metadata": {
    "collapsed": false
   },
   "outputs": [],
   "source": [
    "Y = np.random.randint(0,2,size=2000000)"
   ]
  },
  {
   "cell_type": "markdown",
   "metadata": {},
   "source": [
    "## CLR Tests"
   ]
  },
  {
   "cell_type": "markdown",
   "metadata": {},
   "source": [
    "Set batch size so number of iterations in one epoch is 1000, half the default step_size (2000).\n",
    "\n",
    "The Current LR value should be ~ 0.01, 0.06, and 0.035 for even multiples of 2000, odd multiples of 2000, and odd multiples of 1000 (1/2 step_size) respectively."
   ]
  },
  {
   "cell_type": "markdown",
   "metadata": {},
   "source": [
    "Checked for each model. Note that \"current_lr\" is updated immediately following cycle update, and should follow expectations. It would only be different if rate-decay is in effect, as this happens prior to cycle."
   ]
  },
  {
   "cell_type": "markdown",
   "metadata": {},
   "source": [
    "### SGD"
   ]
  },
  {
   "cell_type": "code",
   "execution_count": 12,
   "metadata": {
    "collapsed": false
   },
   "outputs": [
    {
     "name": "stdout",
     "output_type": "stream",
     "text": [
      "Number of iterations: 1000.0\n",
      "Current LR: 0.034974999725818634\n",
      "Number of iterations: 2000.0\n",
      "Current LR: 0.059974998235702515\n",
      "Number of iterations: 3000.0\n",
      "Current LR: 0.03502499684691429\n",
      "Number of iterations: 4000.0\n",
      "Current LR: 0.01002499833703041\n",
      "Number of iterations: 5000.0\n",
      "Current LR: 0.034974999725818634\n",
      "Number of iterations: 6000.0\n",
      "Current LR: 0.059974998235702515\n",
      "Number of iterations: 7000.0\n",
      "Current LR: 0.035024985671043396\n",
      "Number of iterations: 8000.0\n",
      "Current LR: 0.01002498622983694\n",
      "Number of iterations: 9000.0\n",
      "Current LR: 0.03497501090168953\n",
      "Number of iterations: 10000.0\n",
      "Current LR: 0.05997500941157341\n"
     ]
    }
   ],
   "source": [
    "model.compile(optimizer=SGD(lr=0.01,clr=clr), loss = 'binary_crossentropy', metrics=['accuracy'])\n",
    "for i in range(0,10):\n",
    "    model.fit(X, Y, batch_size=2000, nb_epoch=1, verbose=0)\n",
    "    config = model.optimizer.get_config()\n",
    "    print(f'Number of iterations: {config[\"iterations\"]}')\n",
    "    print(f'Current LR: {config[\"current_lr\"]}')"
   ]
  },
  {
   "cell_type": "markdown",
   "metadata": {},
   "source": [
    "### RMSProp"
   ]
  },
  {
   "cell_type": "code",
   "execution_count": 13,
   "metadata": {
    "collapsed": false
   },
   "outputs": [
    {
     "name": "stdout",
     "output_type": "stream",
     "text": [
      "Number of iterations: 1000.0\n",
      "Current LR: 0.034974999725818634\n",
      "Number of iterations: 2000.0\n",
      "Current LR: 0.059974998235702515\n",
      "Number of iterations: 3000.0\n",
      "Current LR: 0.03502499684691429\n",
      "Number of iterations: 4000.0\n",
      "Current LR: 0.01002499833703041\n",
      "Number of iterations: 5000.0\n",
      "Current LR: 0.034974999725818634\n",
      "Number of iterations: 6000.0\n",
      "Current LR: 0.059974998235702515\n",
      "Number of iterations: 7000.0\n",
      "Current LR: 0.035024985671043396\n",
      "Number of iterations: 8000.0\n",
      "Current LR: 0.01002498622983694\n",
      "Number of iterations: 9000.0\n",
      "Current LR: 0.03497501090168953\n",
      "Number of iterations: 10000.0\n",
      "Current LR: 0.05997500941157341\n"
     ]
    }
   ],
   "source": [
    "model.compile(optimizer=RMSprop(lr=0.01,clr=clr), loss = 'binary_crossentropy', metrics=['accuracy'])\n",
    "for i in range(0,10):\n",
    "    model.fit(X, Y, batch_size=2000, nb_epoch=1, verbose=0)\n",
    "    config = model.optimizer.get_config()\n",
    "    print(f'Number of iterations: {config[\"iterations\"]}')\n",
    "    print(f'Current LR: {config[\"current_lr\"]}')"
   ]
  },
  {
   "cell_type": "markdown",
   "metadata": {},
   "source": [
    "### Adagrad"
   ]
  },
  {
   "cell_type": "code",
   "execution_count": 14,
   "metadata": {
    "collapsed": false
   },
   "outputs": [
    {
     "name": "stdout",
     "output_type": "stream",
     "text": [
      "Number of iterations: 1000.0\n",
      "Current LR: 0.034974999725818634\n",
      "Number of iterations: 2000.0\n",
      "Current LR: 0.059974998235702515\n",
      "Number of iterations: 3000.0\n",
      "Current LR: 0.03502499684691429\n",
      "Number of iterations: 4000.0\n",
      "Current LR: 0.01002499833703041\n",
      "Number of iterations: 5000.0\n",
      "Current LR: 0.034974999725818634\n",
      "Number of iterations: 6000.0\n",
      "Current LR: 0.059974998235702515\n",
      "Number of iterations: 7000.0\n",
      "Current LR: 0.035024985671043396\n",
      "Number of iterations: 8000.0\n",
      "Current LR: 0.01002498622983694\n",
      "Number of iterations: 9000.0\n",
      "Current LR: 0.03497501090168953\n",
      "Number of iterations: 10000.0\n",
      "Current LR: 0.05997500941157341\n"
     ]
    }
   ],
   "source": [
    "model.compile(optimizer=Adagrad(lr=0.01,clr=clr), loss = 'binary_crossentropy', metrics=['accuracy'])\n",
    "for i in range(0,10):\n",
    "    model.fit(X, Y, batch_size=2000, nb_epoch=1, verbose=0)\n",
    "    config = model.optimizer.get_config()\n",
    "    print(f'Number of iterations: {config[\"iterations\"]}')\n",
    "    print(f'Current LR: {config[\"current_lr\"]}')"
   ]
  },
  {
   "cell_type": "markdown",
   "metadata": {},
   "source": [
    "### Adadelta"
   ]
  },
  {
   "cell_type": "code",
   "execution_count": 15,
   "metadata": {
    "collapsed": false
   },
   "outputs": [
    {
     "name": "stdout",
     "output_type": "stream",
     "text": [
      "Number of iterations: 1000.0\n",
      "Current LR: 0.034974999725818634\n",
      "Number of iterations: 2000.0\n",
      "Current LR: 0.059974998235702515\n",
      "Number of iterations: 3000.0\n",
      "Current LR: 0.03502499684691429\n",
      "Number of iterations: 4000.0\n",
      "Current LR: 0.01002499833703041\n",
      "Number of iterations: 5000.0\n",
      "Current LR: 0.034974999725818634\n",
      "Number of iterations: 6000.0\n",
      "Current LR: 0.059974998235702515\n",
      "Number of iterations: 7000.0\n",
      "Current LR: 0.035024985671043396\n",
      "Number of iterations: 8000.0\n",
      "Current LR: 0.01002498622983694\n",
      "Number of iterations: 9000.0\n",
      "Current LR: 0.03497501090168953\n",
      "Number of iterations: 10000.0\n",
      "Current LR: 0.05997500941157341\n"
     ]
    }
   ],
   "source": [
    "model.compile(optimizer=Adadelta(lr=0.01,clr=clr), loss = 'binary_crossentropy', metrics=['accuracy'])\n",
    "for i in range(0,10):\n",
    "    model.fit(X, Y, batch_size=2000, nb_epoch=1, verbose=0)\n",
    "    config = model.optimizer.get_config()\n",
    "    print(f'Number of iterations: {config[\"iterations\"]}')\n",
    "    print(f'Current LR: {config[\"current_lr\"]}')"
   ]
  },
  {
   "cell_type": "markdown",
   "metadata": {},
   "source": [
    "### Adam"
   ]
  },
  {
   "cell_type": "code",
   "execution_count": 16,
   "metadata": {
    "collapsed": false
   },
   "outputs": [
    {
     "name": "stdout",
     "output_type": "stream",
     "text": [
      "Number of iterations: 1000.0\n",
      "Current LR: 0.034974999725818634\n",
      "Number of iterations: 2000.0\n",
      "Current LR: 0.059974998235702515\n",
      "Number of iterations: 3000.0\n",
      "Current LR: 0.03502499684691429\n",
      "Number of iterations: 4000.0\n",
      "Current LR: 0.01002499833703041\n",
      "Number of iterations: 5000.0\n",
      "Current LR: 0.034974999725818634\n",
      "Number of iterations: 6000.0\n",
      "Current LR: 0.059974998235702515\n",
      "Number of iterations: 7000.0\n",
      "Current LR: 0.035024985671043396\n",
      "Number of iterations: 8000.0\n",
      "Current LR: 0.01002498622983694\n",
      "Number of iterations: 9000.0\n",
      "Current LR: 0.03497501090168953\n",
      "Number of iterations: 10000.0\n",
      "Current LR: 0.05997500941157341\n"
     ]
    }
   ],
   "source": [
    "model.compile(optimizer=Adam(lr=0.01,clr=clr), loss = 'binary_crossentropy', metrics=['accuracy'])\n",
    "for i in range(0,10):\n",
    "    model.fit(X, Y, batch_size=2000, nb_epoch=1, verbose=0)\n",
    "    config = model.optimizer.get_config()\n",
    "    print(f'Number of iterations: {config[\"iterations\"]}')\n",
    "    print(f'Current LR: {config[\"current_lr\"]}')"
   ]
  },
  {
   "cell_type": "markdown",
   "metadata": {},
   "source": [
    "### Adamax"
   ]
  },
  {
   "cell_type": "code",
   "execution_count": 17,
   "metadata": {
    "collapsed": false
   },
   "outputs": [
    {
     "name": "stdout",
     "output_type": "stream",
     "text": [
      "Number of iterations: 1000.0\n",
      "Current LR: 0.034974999725818634\n",
      "Number of iterations: 2000.0\n",
      "Current LR: 0.059974998235702515\n",
      "Number of iterations: 3000.0\n",
      "Current LR: 0.03502499684691429\n",
      "Number of iterations: 4000.0\n",
      "Current LR: 0.01002499833703041\n",
      "Number of iterations: 5000.0\n",
      "Current LR: 0.034974999725818634\n",
      "Number of iterations: 6000.0\n",
      "Current LR: 0.059974998235702515\n",
      "Number of iterations: 7000.0\n",
      "Current LR: 0.035024985671043396\n",
      "Number of iterations: 8000.0\n",
      "Current LR: 0.01002498622983694\n",
      "Number of iterations: 9000.0\n",
      "Current LR: 0.03497501090168953\n",
      "Number of iterations: 10000.0\n",
      "Current LR: 0.05997500941157341\n"
     ]
    }
   ],
   "source": [
    "model.compile(optimizer=Adamax(lr=0.01,clr=clr), loss = 'binary_crossentropy', metrics=['accuracy'])\n",
    "for i in range(0,10):\n",
    "    model.fit(X, Y, batch_size=2000, nb_epoch=1, verbose=0)\n",
    "    config = model.optimizer.get_config()\n",
    "    print(f'Number of iterations: {config[\"iterations\"]}')\n",
    "    print(f'Current LR: {config[\"current_lr\"]}')"
   ]
  },
  {
   "cell_type": "markdown",
   "metadata": {},
   "source": [
    "### Nadam"
   ]
  },
  {
   "cell_type": "code",
   "execution_count": 18,
   "metadata": {
    "collapsed": false
   },
   "outputs": [
    {
     "name": "stdout",
     "output_type": "stream",
     "text": [
      "Number of iterations: 1000.0\n",
      "Current LR: 0.034974999725818634\n",
      "Number of iterations: 2000.0\n",
      "Current LR: 0.059974998235702515\n",
      "Number of iterations: 3000.0\n",
      "Current LR: 0.03502499684691429\n",
      "Number of iterations: 4000.0\n",
      "Current LR: 0.01002499833703041\n",
      "Number of iterations: 5000.0\n",
      "Current LR: 0.034974999725818634\n",
      "Number of iterations: 6000.0\n",
      "Current LR: 0.059974998235702515\n",
      "Number of iterations: 7000.0\n",
      "Current LR: 0.035024985671043396\n",
      "Number of iterations: 8000.0\n",
      "Current LR: 0.01002498622983694\n",
      "Number of iterations: 9000.0\n",
      "Current LR: 0.03497501090168953\n",
      "Number of iterations: 10000.0\n",
      "Current LR: 0.05997500941157341\n"
     ]
    }
   ],
   "source": [
    "model.compile(optimizer=Nadam(lr=0.01,clr=clr), loss = 'binary_crossentropy', metrics=['accuracy'])\n",
    "for i in range(0,10):\n",
    "    model.fit(X, Y, batch_size=2000, nb_epoch=1, verbose=0)\n",
    "    config = model.optimizer.get_config()\n",
    "    print(f'Number of iterations: {config[\"iterations\"]}')\n",
    "    print(f'Current LR: {config[\"current_lr\"]}')"
   ]
  },
  {
   "cell_type": "markdown",
   "metadata": {},
   "source": [
    "Values check out"
   ]
  }
 ],
 "metadata": {
  "kernelspec": {
   "display_name": "Python 3",
   "language": "python",
   "name": "python3"
  },
  "language_info": {
   "codemirror_mode": {
    "name": "ipython",
    "version": 3
   },
   "file_extension": ".py",
   "mimetype": "text/x-python",
   "name": "python",
   "nbconvert_exporter": "python",
   "pygments_lexer": "ipython3",
   "version": "3.6.0"
  }
 },
 "nbformat": 4,
 "nbformat_minor": 2
}
