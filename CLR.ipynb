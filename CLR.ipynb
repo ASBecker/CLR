{
 "cells": [
  {
   "cell_type": "markdown",
   "metadata": {},
   "source": [
    "# SGD Optimizer Utilizing Cyclic Learning Rate"
   ]
  },
  {
   "cell_type": "markdown",
   "metadata": {},
   "source": [
    "Switch imports for backend"
   ]
  },
  {
   "cell_type": "code",
   "execution_count": 9,
   "metadata": {
    "collapsed": false
   },
   "outputs": [],
   "source": [
    "from keras.optimizers import *\n",
    "\n",
    "if K.backend()=='tensorflow':\n",
    "    import tensorflow as tensor\n",
    "else:\n",
    "    import theano.tensor as tensor\n",
    "\n",
    "import numpy as np"
   ]
  },
  {
   "cell_type": "markdown",
   "metadata": {
    "heading_collapsed": true
   },
   "source": [
    "## Test CLR Function"
   ]
  },
  {
   "cell_type": "markdown",
   "metadata": {
    "hidden": true
   },
   "source": [
    "Used following function to check if algo works correctly"
   ]
  },
  {
   "cell_type": "code",
   "execution_count": 102,
   "metadata": {
    "collapsed": true,
    "hidden": true
   },
   "outputs": [],
   "source": [
    "def lr(iterations):\n",
    "    \"\"\"\n",
    "    Test CLR function w/ following params:\n",
    "    \"\"\"\n",
    "    step_size = 2000.\n",
    "    lr = 0.01\n",
    "    max_lr = 0.06\n",
    "    cycle = np.floor(1+iterations/(2*step_size))\n",
    "    x = np.abs(iterations/step_size - 2*cycle + 1)\n",
    "    return lr + (max_lr-lr)*np.maximum(0, (1-x))"
   ]
  },
  {
   "cell_type": "markdown",
   "metadata": {
    "hidden": true
   },
   "source": [
    "It should give the maximum lr of 0.06 at odd multiples of 2000, 0.01 at even multiples"
   ]
  },
  {
   "cell_type": "code",
   "execution_count": 120,
   "metadata": {
    "collapsed": false,
    "hidden": true
   },
   "outputs": [
    {
     "data": {
      "text/plain": [
       "0.01"
      ]
     },
     "execution_count": 120,
     "metadata": {},
     "output_type": "execute_result"
    }
   ],
   "source": [
    "lr(0)"
   ]
  },
  {
   "cell_type": "code",
   "execution_count": 121,
   "metadata": {
    "collapsed": false,
    "hidden": true
   },
   "outputs": [
    {
     "data": {
      "text/plain": [
       "0.059999999999999998"
      ]
     },
     "execution_count": 121,
     "metadata": {},
     "output_type": "execute_result"
    }
   ],
   "source": [
    "lr(2000)"
   ]
  },
  {
   "cell_type": "code",
   "execution_count": 122,
   "metadata": {
    "collapsed": false,
    "hidden": true
   },
   "outputs": [
    {
     "data": {
      "text/plain": [
       "0.01"
      ]
     },
     "execution_count": 122,
     "metadata": {},
     "output_type": "execute_result"
    }
   ],
   "source": [
    "lr(4000)"
   ]
  },
  {
   "cell_type": "code",
   "execution_count": 123,
   "metadata": {
    "collapsed": false,
    "hidden": true
   },
   "outputs": [
    {
     "data": {
      "text/plain": [
       "0.059999999999999998"
      ]
     },
     "execution_count": 123,
     "metadata": {},
     "output_type": "execute_result"
    }
   ],
   "source": [
    "lr(6000)"
   ]
  },
  {
   "cell_type": "code",
   "execution_count": 124,
   "metadata": {
    "collapsed": false,
    "hidden": true
   },
   "outputs": [
    {
     "data": {
      "text/plain": [
       "0.01"
      ]
     },
     "execution_count": 124,
     "metadata": {},
     "output_type": "execute_result"
    }
   ],
   "source": [
    "lr(8000)"
   ]
  },
  {
   "cell_type": "code",
   "execution_count": 125,
   "metadata": {
    "collapsed": false,
    "hidden": true
   },
   "outputs": [
    {
     "data": {
      "text/plain": [
       "0.059999999999999998"
      ]
     },
     "execution_count": 125,
     "metadata": {},
     "output_type": "execute_result"
    }
   ],
   "source": [
    "lr(10000)"
   ]
  },
  {
   "cell_type": "markdown",
   "metadata": {
    "hidden": true
   },
   "source": [
    "Check"
   ]
  },
  {
   "cell_type": "markdown",
   "metadata": {},
   "source": [
    "## Simple SGD Optimizer w/ CLR"
   ]
  },
  {
   "cell_type": "markdown",
   "metadata": {},
   "source": [
    "### Optimizer"
   ]
  },
  {
   "cell_type": "markdown",
   "metadata": {},
   "source": [
    "Keras sgd optimizer with triangular CLR"
   ]
  },
  {
   "cell_type": "code",
   "execution_count": 10,
   "metadata": {
    "collapsed": true
   },
   "outputs": [],
   "source": [
    "class SGD_CLR(Optimizer):\n",
    "    \"\"\"Basic Stochastic gradient descent optimizer.\n",
    "    Supports triangular cyclic learning rate\n",
    "    Includes attribute self.current_lr for testing purposes\n",
    "    \"\"\"\n",
    "\n",
    "    def __init__(self, lr=0.01, max_lr=0.06, step_size=2000., **kwargs):\n",
    "        super(SGD_CLR, self).__init__(**kwargs)\n",
    "        self.iterations = K.variable(0., name='iterations')\n",
    "        self.lr = K.variable(lr, name='lr')\n",
    "        self.step_size = K.variable(step_size, name='step_size')\n",
    "        self.max_lr = K.variable(max_lr, name='max_lr')\n",
    "        self.current_lr = K.variable(0., name='current_lr')\n",
    "\n",
    "    def get_updates(self, params, constraints, loss):\n",
    "        grads = self.get_gradients(loss, params)\n",
    "        self.updates = [K.update_add(self.iterations, 1)]\n",
    "        cycle = tensor.floor(1+self.iterations/(2*self.step_size))\n",
    "        x = np.abs(self.iterations/self.step_size - 2*cycle + 1)\n",
    "        lr = self.lr + (self.max_lr-self.lr)*K.maximum(0., (1-x))\n",
    "        self.updates.append(K.update(self.current_lr, lr))\n",
    "        # momentum\n",
    "        shapes = [K.get_variable_shape(p) for p in params]\n",
    "        moments = [K.zeros(shape) for shape in shapes]\n",
    "        self.weights = [self.iterations] + moments\n",
    "        for p, g in zip(params, grads):\n",
    "            new_p = p - lr * g\n",
    "            # apply constraints\n",
    "            if p in constraints:\n",
    "                c = constraints[p]\n",
    "                new_p = c(new_p)\n",
    "\n",
    "            self.updates.append(K.update(p, new_p))\n",
    "        return self.updates\n",
    "\n",
    "    def get_config(self):\n",
    "        config = {'lr': float(K.get_value(self.lr)),\n",
    "                  'iterations': float(K.get_value(self.iterations)),\n",
    "                  'step_size': float(K.get_value(self.step_size)),\n",
    "                  'max_lr': float(K.get_value(self.max_lr)),\n",
    "                  'current_lr': float(K.get_value(self.current_lr))\n",
    "                 }\n",
    "        base_config = super(SGD_CLR, self).get_config()\n",
    "        return dict(list(base_config.items()) + list(config.items()))\n",
    "\n"
   ]
  },
  {
   "cell_type": "markdown",
   "metadata": {},
   "source": [
    "### Test Model"
   ]
  },
  {
   "cell_type": "code",
   "execution_count": 3,
   "metadata": {
    "collapsed": false
   },
   "outputs": [],
   "source": [
    "from keras.models import Sequential, Model\n",
    "from keras.layers import Dense, Activation, Input"
   ]
  },
  {
   "cell_type": "code",
   "execution_count": 4,
   "metadata": {
    "collapsed": false
   },
   "outputs": [],
   "source": [
    "inp = Input(shape=(15,))                \n",
    "x = Dense(10, activation='relu')(inp)\n",
    "x = Dense(1, activation='sigmoid')(x)\n",
    "\n",
    "model = Model(inp, x)"
   ]
  },
  {
   "cell_type": "code",
   "execution_count": 11,
   "metadata": {
    "collapsed": false
   },
   "outputs": [],
   "source": [
    "model.compile(optimizer=SGD_CLR(), loss = 'binary_crossentropy', metrics=['accuracy'])"
   ]
  },
  {
   "cell_type": "code",
   "execution_count": 6,
   "metadata": {
    "collapsed": false
   },
   "outputs": [],
   "source": [
    "X = np.random.rand(2000000,15)"
   ]
  },
  {
   "cell_type": "code",
   "execution_count": 7,
   "metadata": {
    "collapsed": false
   },
   "outputs": [],
   "source": [
    "Y = np.random.randint(0,2,size=2000000)"
   ]
  },
  {
   "cell_type": "markdown",
   "metadata": {},
   "source": [
    "### CLR Test"
   ]
  },
  {
   "cell_type": "markdown",
   "metadata": {},
   "source": [
    "Set batch size so number of iterations in one epoch is 1000, half the default step_size (2000).\n",
    "\n",
    "The Current LR value should be ~ 0.01, 0.06, and 0.035 for even multiples of 2000, odd multiples of 2000, and odd multiples of 1000 (1/2 step_size) respectively."
   ]
  },
  {
   "cell_type": "code",
   "execution_count": 12,
   "metadata": {
    "collapsed": false
   },
   "outputs": [
    {
     "name": "stdout",
     "output_type": "stream",
     "text": [
      "Number of iterations: 1000.0\n",
      "Current LR: 0.034999996423721313\n",
      "Number of iterations: 2000.0\n",
      "Current LR: 0.059999994933605194\n",
      "Number of iterations: 3000.0\n",
      "Current LR: 0.034999996423721313\n",
      "Number of iterations: 4000.0\n",
      "Current LR: 0.009999999776482582\n",
      "Number of iterations: 5000.0\n",
      "Current LR: 0.034999996423721313\n",
      "Number of iterations: 6000.0\n",
      "Current LR: 0.059999994933605194\n",
      "Number of iterations: 7000.0\n",
      "Current LR: 0.034999996423721313\n",
      "Number of iterations: 8000.0\n",
      "Current LR: 0.009999999776482582\n",
      "Number of iterations: 9000.0\n",
      "Current LR: 0.034999996423721313\n",
      "Number of iterations: 10000.0\n",
      "Current LR: 0.059999994933605194\n"
     ]
    }
   ],
   "source": [
    "for i in range(0,10):\n",
    "    model.fit(X, Y, batch_size=2000, nb_epoch=1, verbose=0)\n",
    "    config = model.optimizer.get_config()\n",
    "    print(f'Number of iterations: {config[\"iterations\"]}')\n",
    "    print(f'Current LR: {config[\"current_lr\"]}')"
   ]
  },
  {
   "cell_type": "markdown",
   "metadata": {},
   "source": [
    "Values check out"
   ]
  }
 ],
 "metadata": {
  "kernelspec": {
   "display_name": "Python 3",
   "language": "python",
   "name": "python3"
  },
  "language_info": {
   "codemirror_mode": {
    "name": "ipython",
    "version": 3
   },
   "file_extension": ".py",
   "mimetype": "text/x-python",
   "name": "python",
   "nbconvert_exporter": "python",
   "pygments_lexer": "ipython3",
   "version": "3.6.0"
  }
 },
 "nbformat": 4,
 "nbformat_minor": 2
}
